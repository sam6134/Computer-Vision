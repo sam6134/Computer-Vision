{
 "cells": [
  {
   "cell_type": "code",
   "execution_count": 11,
   "metadata": {},
   "outputs": [],
   "source": [
    "from PIL import Image\n",
    "import numpy as np\n",
    "import matplotlib.pyplot as plt"
   ]
  },
  {
   "cell_type": "code",
   "execution_count": 22,
   "metadata": {},
   "outputs": [
    {
     "data": {
      "text/plain": [
       "array([[ 2.40100492e+00, -5.29218983e+00, -1.23722422e+01,\n",
       "         6.28168280e+02],\n",
       "       [ 3.59147769e-01, -9.76761469e-01, -6.60023590e+00,\n",
       "         3.26017669e+02],\n",
       "       [ 7.58847639e-04, -8.09779334e-03, -1.90063594e-02,\n",
       "         1.00000000e+00]])"
      ]
     },
     "execution_count": 22,
     "metadata": {},
     "output_type": "execute_result"
    }
   ],
   "source": [
    "M = [[8, -19, -25, 6], [-32, 44, 20, -23], [16, 17, 20, -40]]\n",
    "M = np.array(M)"
   ]
  },
  {
   "cell_type": "code",
   "execution_count": 39,
   "metadata": {},
   "outputs": [],
   "source": [
    "q1 = np.array(M[0])\n",
    "q2 = np.array(M[1])\n",
    "q3 = np.array(M[2])"
   ]
  },
  {
   "cell_type": "code",
   "execution_count": 42,
   "metadata": {},
   "outputs": [
    {
     "name": "stdout",
     "output_type": "stream",
     "text": [
      "-935 1556\n"
     ]
    }
   ],
   "source": [
    "ox = q1.transpose().dot(q3)\n",
    "oy = q2.transpose().dot(q3)\n",
    "print(ox,oy)"
   ]
  },
  {
   "cell_type": "code",
   "execution_count": 43,
   "metadata": {},
   "outputs": [
    {
     "name": "stdout",
     "output_type": "stream",
     "text": [
      "934.419070867028 1554.7498191027391\n"
     ]
    }
   ],
   "source": [
    "fx = np.sqrt(abs(q1.transpose().dot(q1) - ox**2))\n",
    "fy = np.sqrt(abs(q2.transpose().dot(q2) - oy**2))\n",
    "print(fx,fy)"
   ]
  },
  {
   "cell_type": "code",
   "execution_count": 45,
   "metadata": {},
   "outputs": [
    {
     "name": "stdout",
     "output_type": "stream",
     "text": [
      "-16.018508682738574 -16.99023542538466 -19.98567942611858\n"
     ]
    }
   ],
   "source": [
    "r11 = (ox*M[2][0] - M[0][0])/fx\n",
    "r12 = (ox*M[2][1] - M[0][1])/fx\n",
    "r13 = (ox*M[2][2] - M[0][2])/fx\n",
    "print(r11, r12, r13)"
   ]
  },
  {
   "cell_type": "code",
   "execution_count": 46,
   "metadata": {},
   "outputs": [
    {
     "name": "stdout",
     "output_type": "stream",
     "text": [
      "16.033447757135733 16.985369398685833 20.003218278518986\n"
     ]
    }
   ],
   "source": [
    "r21 = (oy*M[2][0] - M[1][0])/fy\n",
    "r22 = (oy*M[2][1] - M[1][1])/fy\n",
    "r23 = (oy*M[2][2] - M[1][2])/fy\n",
    "print(r21, r22, r23)"
   ]
  },
  {
   "cell_type": "code",
   "execution_count": 44,
   "metadata": {},
   "outputs": [
    {
     "name": "stdout",
     "output_type": "stream",
     "text": [
      "40.01844693227728 -40.01737079210983\n"
     ]
    }
   ],
   "source": [
    "Tx = (ox*M[2][3] - M[0][3])/fx\n",
    "Ty = (oy*M[2][3] - M[1][3])/fy\n",
    "print(Tx, Ty)"
   ]
  },
  {
   "cell_type": "code",
   "execution_count": 6,
   "metadata": {},
   "outputs": [
    {
     "name": "stdout",
     "output_type": "stream",
     "text": [
      "[[  8 -19 -25   6]\n",
      " [-32  44  20 -23]\n",
      " [ 16  17  20 -40]] [4 2 3 1]\n",
      "[-75  -3 118]\n"
     ]
    }
   ],
   "source": [
    "import numpy as np\n",
    "M = [[8, -19, -25, 6], [-32, 44, 20, -23], [16, 17, 20, -40]]\n",
    "M = np.array(M)\n",
    "\n",
    "Z = np.array([4,2,3,1])\n",
    "print(M, Z)\n",
    "print(M.dot(Z))"
   ]
  },
  {
   "cell_type": "code",
   "execution_count": 8,
   "metadata": {},
   "outputs": [
    {
     "data": {
      "text/plain": [
       "0.025423728813559324"
      ]
     },
     "execution_count": 8,
     "metadata": {},
     "output_type": "execute_result"
    }
   ],
   "source": [
    "3/118"
   ]
  },
  {
   "cell_type": "code",
   "execution_count": 13,
   "metadata": {},
   "outputs": [],
   "source": [
    "from math import sqrt\n",
    "Tx = [[1,0,0,-25],[0,1,0,-10],[0,0,1,-12],[0,0,0,1]]\n",
    "Tx = np.array(Tx)\n",
    "\n",
    "Rx =  [[1,0,0,0],[0,sqrt(3)/2,1/2,0],[0,-1/2,sqrt(3)/2,0],[0,0,0,1]]\n",
    "Rx = np.array(Rx)\n",
    "\n",
    "Ry = [[1/sqrt(2),0,-1/sqrt(2),0],[0,1,0,0],[1/sqrt(2),0,1/sqrt(2),0],[0,0,0,1]]\n",
    "Ry = np.array(Ry)\n",
    "\n",
    "A = np.array([4,3,2,1])"
   ]
  },
  {
   "cell_type": "code",
   "execution_count": 14,
   "metadata": {},
   "outputs": [
    {
     "data": {
      "text/plain": [
       "array([-23.58578644,  -5.28060345,  -9.82576539,   1.        ])"
      ]
     },
     "execution_count": 14,
     "metadata": {},
     "output_type": "execute_result"
    }
   ],
   "source": [
    "Tx.dot(Rx).dot(Ry).dot(A)"
   ]
  },
  {
   "cell_type": "code",
   "execution_count": 38,
   "metadata": {},
   "outputs": [],
   "source": [
    "M = [[8, -19, -25, 6], [-32, 44, 20, -23], [16, 17, 20, -40]]\n",
    "M = np.array(M)"
   ]
  },
  {
   "cell_type": "code",
   "execution_count": 30,
   "metadata": {},
   "outputs": [],
   "source": [
    "A = np.array([3,3,3,1])\n"
   ]
  },
  {
   "cell_type": "code",
   "execution_count": 31,
   "metadata": {},
   "outputs": [
    {
     "data": {
      "text/plain": [
       "array([-102,   73,  119])"
      ]
     },
     "execution_count": 31,
     "metadata": {},
     "output_type": "execute_result"
    }
   ],
   "source": [
    "M.dot(A)"
   ]
  },
  {
   "cell_type": "code",
   "execution_count": 32,
   "metadata": {},
   "outputs": [
    {
     "data": {
      "text/plain": [
       "0.21999999999999997"
      ]
     },
     "execution_count": 32,
     "metadata": {},
     "output_type": "execute_result"
    }
   ],
   "source": [
    "0.85-0.63"
   ]
  },
  {
   "cell_type": "code",
   "execution_count": 33,
   "metadata": {},
   "outputs": [
    {
     "data": {
      "text/plain": [
       "0.0484"
      ]
     },
     "execution_count": 33,
     "metadata": {},
     "output_type": "execute_result"
    }
   ],
   "source": [
    "0.22*0.22"
   ]
  },
  {
   "cell_type": "code",
   "execution_count": 34,
   "metadata": {},
   "outputs": [
    {
     "data": {
      "text/plain": [
       "0.3721"
      ]
     },
     "execution_count": 34,
     "metadata": {},
     "output_type": "execute_result"
    }
   ],
   "source": [
    "0.61*0.61"
   ]
  },
  {
   "cell_type": "code",
   "execution_count": 35,
   "metadata": {},
   "outputs": [
    {
     "data": {
      "text/plain": [
       "0.4205"
      ]
     },
     "execution_count": 35,
     "metadata": {},
     "output_type": "execute_result"
    }
   ],
   "source": [
    "0.3721+0.0484"
   ]
  },
  {
   "cell_type": "code",
   "execution_count": 36,
   "metadata": {},
   "outputs": [
    {
     "data": {
      "text/plain": [
       "0.648459713474939"
      ]
     },
     "execution_count": 36,
     "metadata": {},
     "output_type": "execute_result"
    }
   ],
   "source": [
    "sqrt(0.4205)"
   ]
  },
  {
   "cell_type": "code",
   "execution_count": 37,
   "metadata": {},
   "outputs": [
    {
     "data": {
      "text/plain": [
       "2.2093749999999996"
      ]
     },
     "execution_count": 37,
     "metadata": {},
     "output_type": "execute_result"
    }
   ],
   "source": [
    "1.414/0.64"
   ]
  },
  {
   "cell_type": "code",
   "execution_count": 48,
   "metadata": {},
   "outputs": [],
   "source": [
    "R = [[-16, -17, -20], [16, 17, 20], [16, 17, 20]]\n",
    "R = np.array(R)\n",
    "\n",
    "X = [[1,0,0],[0,sqrt(3)/2,1/2],[0,1/2,sqrt(3)/2]]\n",
    "X = np.array(X)\n",
    "\n",
    "Y = [[1/sqrt(2),0,-1/sqrt(2)],[0,1,0],[1/sqrt(2),0,1/sqrt(2)]]\n",
    "Y = np.array(Y)"
   ]
  },
  {
   "cell_type": "code",
   "execution_count": 49,
   "metadata": {},
   "outputs": [
    {
     "data": {
      "text/plain": [
       "array([[-29.57156485, -24.72243186,  -6.94414786],\n",
       "       [ 29.57156485,  24.72243186,   6.94414786],\n",
       "       [ 29.57156485,  24.72243186,   6.94414786]])"
      ]
     },
     "execution_count": 49,
     "metadata": {},
     "output_type": "execute_result"
    }
   ],
   "source": [
    "R.dot(X).dot(Y)"
   ]
  },
  {
   "cell_type": "code",
   "execution_count": null,
   "metadata": {},
   "outputs": [],
   "source": []
  }
 ],
 "metadata": {
  "interpreter": {
   "hash": "d10c3a2ec73ca3015b3c873253f1046d26e6088d29b39e96cb73c6121a4b387a"
  },
  "kernelspec": {
   "display_name": "Python 3.8.2 64-bit ('venv': venv)",
   "language": "python",
   "name": "python3"
  },
  "language_info": {
   "codemirror_mode": {
    "name": "ipython",
    "version": 3
   },
   "file_extension": ".py",
   "mimetype": "text/x-python",
   "name": "python",
   "nbconvert_exporter": "python",
   "pygments_lexer": "ipython3",
   "version": "3.8.2"
  },
  "orig_nbformat": 4
 },
 "nbformat": 4,
 "nbformat_minor": 2
}
